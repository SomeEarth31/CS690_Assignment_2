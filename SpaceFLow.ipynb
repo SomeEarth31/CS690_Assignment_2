{
 "cells": [
  {
   "cell_type": "code",
   "execution_count": 1,
   "metadata": {},
   "outputs": [],
   "source": [
    "import torch\n",
    "from SpaceFlow import SpaceFlow\n",
    "import scanpy as sc\n",
    "import numpy as np\n",
    "import pandas as pd\n",
    "import os"
   ]
  },
  {
   "cell_type": "code",
   "execution_count": 2,
   "metadata": {},
   "outputs": [
    {
     "data": {
      "text/plain": [
       "'/home/soemearth/My_Things/CS690A/Assignment_2/DLPFC1'"
      ]
     },
     "execution_count": 2,
     "metadata": {},
     "output_type": "execute_result"
    }
   ],
   "source": [
    "path=os.getcwd() \n",
    "path"
   ]
  },
  {
   "cell_type": "code",
   "execution_count": 3,
   "metadata": {},
   "outputs": [
    {
     "name": "stderr",
     "output_type": "stream",
     "text": [
      "/home/soemearth/Softwear/anaconda3/envs/CG/lib/python3.11/site-packages/anndata/_core/anndata.py:1840: UserWarning: Variable names are not unique. To make them unique, call `.var_names_make_unique`.\n",
      "  utils.warn_names_duplicates(\"var\")\n",
      "/home/soemearth/Softwear/anaconda3/envs/CG/lib/python3.11/site-packages/anndata/_core/anndata.py:1840: UserWarning: Variable names are not unique. To make them unique, call `.var_names_make_unique`.\n",
      "  utils.warn_names_duplicates(\"var\")\n"
     ]
    }
   ],
   "source": [
    "adata = sc.read_visium(path,count_file = \"151507_filtered_feature_bc_matrix.h5\", source_image_path = path)\n",
    "adata.var_names_make_unique()"
   ]
  },
  {
   "cell_type": "code",
   "execution_count": 4,
   "metadata": {},
   "outputs": [],
   "source": [
    "sf = SpaceFlow.SpaceFlow(adata=adata)"
   ]
  },
  {
   "cell_type": "code",
   "execution_count": 5,
   "metadata": {},
   "outputs": [],
   "source": [
    "sc.pp.normalize_total(adata, target_sum=1e4)\n",
    "sc.pp.log1p(adata)\n",
    "sc.pp.highly_variable_genes(adata, n_top_genes=3000, subset=True)\n",
    "sc.pp.pca(adata)\n",
    "spatial_locs = adata.obsm['spatial']\n",
    "spatial_graph = sf.graph_alpha(spatial_locs, n_neighbors=10)\n",
    "sf.adata_preprocessed = adata\n",
    "sf.spatial_graph = spatial_graph"
   ]
  },
  {
   "cell_type": "code",
   "execution_count": 6,
   "metadata": {},
   "outputs": [
    {
     "name": "stdout",
     "output_type": "stream",
     "text": [
      "Epoch 2/1000, Loss: 1.536879062652588\n",
      "Epoch 12/1000, Loss: 1.4315757751464844\n",
      "Epoch 22/1000, Loss: 1.3797770738601685\n",
      "Epoch 32/1000, Loss: 1.226819396018982\n",
      "Epoch 42/1000, Loss: 0.8556820750236511\n",
      "Epoch 52/1000, Loss: 0.5286072492599487\n",
      "Epoch 62/1000, Loss: 0.35197508335113525\n",
      "Epoch 72/1000, Loss: 0.23514439165592194\n",
      "Epoch 82/1000, Loss: 0.21419107913970947\n",
      "Epoch 92/1000, Loss: 0.15129454433918\n",
      "Epoch 102/1000, Loss: 0.13310493528842926\n",
      "Epoch 112/1000, Loss: 0.11648915708065033\n",
      "Epoch 122/1000, Loss: 0.09582407772541046\n",
      "Epoch 132/1000, Loss: 0.08600956201553345\n",
      "Epoch 142/1000, Loss: 0.08509421348571777\n",
      "Epoch 152/1000, Loss: 0.08369263261556625\n",
      "Epoch 162/1000, Loss: 0.06661247462034225\n",
      "Epoch 172/1000, Loss: 0.07093427330255508\n",
      "Epoch 182/1000, Loss: 0.06934783607721329\n",
      "Epoch 192/1000, Loss: 0.06368953734636307\n",
      "Epoch 202/1000, Loss: 0.061856459826231\n",
      "Epoch 212/1000, Loss: 0.05883663892745972\n",
      "Epoch 222/1000, Loss: 0.0660877451300621\n",
      "Epoch 232/1000, Loss: 0.06073514372110367\n",
      "Epoch 242/1000, Loss: 0.05321391671895981\n",
      "Epoch 252/1000, Loss: 0.053592879325151443\n",
      "Epoch 262/1000, Loss: 0.056903231889009476\n",
      "Epoch 272/1000, Loss: 0.05526402220129967\n",
      "Epoch 282/1000, Loss: 0.05567634105682373\n",
      "Epoch 292/1000, Loss: 0.0583743155002594\n",
      "Epoch 302/1000, Loss: 0.05069056153297424\n",
      "Epoch 312/1000, Loss: 0.045367494225502014\n",
      "Epoch 322/1000, Loss: 0.048861995339393616\n",
      "Epoch 332/1000, Loss: 0.04761143773794174\n",
      "Epoch 342/1000, Loss: 0.043873921036720276\n",
      "Epoch 352/1000, Loss: 0.04397164657711983\n",
      "Epoch 362/1000, Loss: 0.04042184725403786\n",
      "Epoch 372/1000, Loss: 0.04630154371261597\n",
      "Epoch 382/1000, Loss: 0.04397670924663544\n",
      "Epoch 392/1000, Loss: 0.03900163248181343\n",
      "Epoch 402/1000, Loss: 0.040751826018095016\n",
      "Epoch 412/1000, Loss: 0.039865657687187195\n",
      "Epoch 422/1000, Loss: 0.03819730132818222\n",
      "Epoch 432/1000, Loss: 0.04703729972243309\n",
      "Epoch 442/1000, Loss: 0.03863317519426346\n",
      "Epoch 452/1000, Loss: 0.037072036415338516\n",
      "Epoch 462/1000, Loss: 0.037312235683202744\n",
      "Epoch 472/1000, Loss: 0.041184987872838974\n",
      "Epoch 482/1000, Loss: 0.03599899262189865\n",
      "Epoch 492/1000, Loss: 0.03767743334174156\n",
      "Epoch 502/1000, Loss: 0.03807510808110237\n",
      "Epoch 512/1000, Loss: 0.04023444652557373\n",
      "Epoch 522/1000, Loss: 0.03919842839241028\n",
      "Epoch 532/1000, Loss: 0.03592592850327492\n",
      "Epoch 542/1000, Loss: 0.03784599527716637\n",
      "Epoch 552/1000, Loss: 0.03878683224320412\n",
      "Epoch 562/1000, Loss: 0.03418537229299545\n",
      "Epoch 572/1000, Loss: 0.033460233360528946\n",
      "Epoch 582/1000, Loss: 0.034175217151641846\n",
      "Epoch 592/1000, Loss: 0.0348995067179203\n",
      "Epoch 602/1000, Loss: 0.03446456417441368\n",
      "Epoch 612/1000, Loss: 0.03305024653673172\n",
      "Epoch 622/1000, Loss: 0.03399313986301422\n",
      "Epoch 632/1000, Loss: 0.0369560606777668\n",
      "Epoch 642/1000, Loss: 0.03307686373591423\n",
      "Epoch 652/1000, Loss: 0.032556649297475815\n",
      "Epoch 662/1000, Loss: 0.034877754747867584\n",
      "Epoch 672/1000, Loss: 0.03406830132007599\n",
      "Epoch 682/1000, Loss: 0.03284526243805885\n",
      "Epoch 692/1000, Loss: 0.034211985766887665\n",
      "Epoch 702/1000, Loss: 0.031123222783207893\n",
      "Epoch 712/1000, Loss: 0.03206528723239899\n",
      "Epoch 722/1000, Loss: 0.03337698429822922\n",
      "Epoch 732/1000, Loss: 0.03164944425225258\n",
      "Epoch 742/1000, Loss: 0.03102489374577999\n",
      "Epoch 752/1000, Loss: 0.03228524327278137\n",
      "Epoch 762/1000, Loss: 0.030333638191223145\n",
      "Epoch 772/1000, Loss: 0.032165784388780594\n",
      "Epoch 782/1000, Loss: 0.032907310873270035\n",
      "Epoch 792/1000, Loss: 0.030533257871866226\n",
      "Epoch 802/1000, Loss: 0.03117315098643303\n",
      "Epoch 812/1000, Loss: 0.03229830414056778\n",
      "Epoch 822/1000, Loss: 0.029297836124897003\n",
      "Epoch 832/1000, Loss: 0.029992200434207916\n",
      "Epoch 842/1000, Loss: 0.030625684186816216\n",
      "Epoch 852/1000, Loss: 0.030109435319900513\n",
      "Epoch 862/1000, Loss: 0.038532648235559464\n",
      "Epoch 872/1000, Loss: 0.030636543408036232\n",
      "Training complete!\n",
      "Embedding is saved at ./embedding.tsv\n"
     ]
    },
    {
     "data": {
      "text/plain": [
       "array([[ 1.1827666 ,  1.7997426 ,  0.76708144, ..., -0.6180191 ,\n",
       "        -0.15317391,  0.8721873 ],\n",
       "       [-0.17980361,  2.367387  ,  0.63291246, ..., -0.7995511 ,\n",
       "         0.14744335,  0.20400807],\n",
       "       [ 1.3976645 ,  1.5052301 ,  1.0694511 , ..., -0.6415513 ,\n",
       "        -0.23907189,  0.01708648],\n",
       "       ...,\n",
       "       [-0.15886019,  2.5612686 ,  1.1743526 , ..., -0.66743493,\n",
       "         0.55676615,  0.8856829 ],\n",
       "       [-0.20165944,  1.7209781 ,  1.1384637 , ..., -0.6178266 ,\n",
       "         0.3208275 , -0.11812929],\n",
       "       [ 1.3115559 ,  1.7040261 ,  1.3582456 , ..., -0.5899948 ,\n",
       "        -0.24275146, -0.04765297]], dtype=float32)"
      ]
     },
     "execution_count": 6,
     "metadata": {},
     "output_type": "execute_result"
    }
   ],
   "source": [
    "sf.train(spatial_regularization_strength=0.1, z_dim=50, lr=1e-3, epochs=1000, max_patience=50, min_stop=100, random_seed=42, gpu=0, regularization_acceleration=True, edge_subset_sz=1000000)"
   ]
  },
  {
   "cell_type": "code",
   "execution_count": 7,
   "metadata": {},
   "outputs": [
    {
     "name": "stdout",
     "output_type": "stream",
     "text": [
      "Performing domain segmentation\n"
     ]
    },
    {
     "name": "stderr",
     "output_type": "stream",
     "text": [
      "/home/soemearth/Softwear/anaconda3/envs/CG/lib/python3.11/site-packages/umap/distances.py:1063: NumbaDeprecationWarning: The 'nopython' keyword argument was not supplied to the 'numba.jit' decorator. The implicit default value for this argument is currently False, but it will be changed to True in Numba 0.59.0. See https://numba.readthedocs.io/en/stable/reference/deprecation.html#deprecation-of-object-mode-fall-back-behaviour-when-using-jit for details.\n",
      "  @numba.jit()\n",
      "/home/soemearth/Softwear/anaconda3/envs/CG/lib/python3.11/site-packages/umap/distances.py:1071: NumbaDeprecationWarning: The 'nopython' keyword argument was not supplied to the 'numba.jit' decorator. The implicit default value for this argument is currently False, but it will be changed to True in Numba 0.59.0. See https://numba.readthedocs.io/en/stable/reference/deprecation.html#deprecation-of-object-mode-fall-back-behaviour-when-using-jit for details.\n",
      "  @numba.jit()\n",
      "/home/soemearth/Softwear/anaconda3/envs/CG/lib/python3.11/site-packages/umap/distances.py:1086: NumbaDeprecationWarning: The 'nopython' keyword argument was not supplied to the 'numba.jit' decorator. The implicit default value for this argument is currently False, but it will be changed to True in Numba 0.59.0. See https://numba.readthedocs.io/en/stable/reference/deprecation.html#deprecation-of-object-mode-fall-back-behaviour-when-using-jit for details.\n",
      "  @numba.jit()\n",
      "/home/soemearth/Softwear/anaconda3/envs/CG/lib/python3.11/site-packages/tqdm/auto.py:21: TqdmWarning: IProgress not found. Please update jupyter and ipywidgets. See https://ipywidgets.readthedocs.io/en/stable/user_install.html\n",
      "  from .autonotebook import tqdm as notebook_tqdm\n",
      "/home/soemearth/Softwear/anaconda3/envs/CG/lib/python3.11/site-packages/umap/umap_.py:660: NumbaDeprecationWarning: The 'nopython' keyword argument was not supplied to the 'numba.jit' decorator. The implicit default value for this argument is currently False, but it will be changed to True in Numba 0.59.0. See https://numba.readthedocs.io/en/stable/reference/deprecation.html#deprecation-of-object-mode-fall-back-behaviour-when-using-jit for details.\n",
      "  @numba.jit()\n",
      "2023-09-09 18:21:07.356053: I tensorflow/core/platform/cpu_feature_guard.cc:182] This TensorFlow binary is optimized to use available CPU instructions in performance-critical operations.\n",
      "To enable the following instructions: AVX2 FMA, in other operations, rebuild TensorFlow with the appropriate compiler flags.\n",
      "2023-09-09 18:21:07.972696: W tensorflow/compiler/tf2tensorrt/utils/py_utils.cc:38] TF-TRT Warning: Could not find TensorRT\n"
     ]
    },
    {
     "name": "stdout",
     "output_type": "stream",
     "text": [
      "Segmentation complete, domain labels of cells or spots saved at ./domains.csv !\n"
     ]
    }
   ],
   "source": [
    "sf.segmentation(domain_label_save_filepath=\"./domains.csv\", n_neighbors=50, resolution=1.0)"
   ]
  },
  {
   "cell_type": "code",
   "execution_count": 8,
   "metadata": {},
   "outputs": [
    {
     "name": "stdout",
     "output_type": "stream",
     "text": [
      "Plotting complete, segmentation figure saved at ./domain_segmentation.pdf !\n"
     ]
    }
   ],
   "source": [
    "sf.plot_segmentation(segmentation_figure_save_filepath=\"./domain_segmentation.pdf\", colormap=\"tab20\", scatter_sz=1., rsz=4., csz=4., wspace=.4, hspace=.5, left=0.125, right=0.9, bottom=0.1, top=0.9)"
   ]
  },
  {
   "cell_type": "code",
   "execution_count": 9,
   "metadata": {},
   "outputs": [
    {
     "name": "stdout",
     "output_type": "stream",
     "text": [
      "Performing pseudo-Spatiotemporal Map\n",
      "pseudo-Spatiotemporal Map(pSM) calculation complete, pSM values of cells or spots saved at ./pSM_values.tsv!\n"
     ]
    }
   ],
   "source": [
    "# sf.pseudo_Spatiotemporal_Map(pSM_values_save_filepath=\"./pSM_values.tsv\", n_neighbors=20, resolution=1.0)"
   ]
  },
  {
   "cell_type": "code",
   "execution_count": 10,
   "metadata": {},
   "outputs": [
    {
     "name": "stdout",
     "output_type": "stream",
     "text": [
      "Plotting complete, pseudo-Spatiotemporal Map figure saved at ./pseudo-Spatiotemporal-Map.pdf !\n"
     ]
    }
   ],
   "source": [
    "# sf.plot_pSM(pSM_figure_save_filepath=\"./pseudo-Spatiotemporal-Map.pdf\", colormap=\"roma\", scatter_sz=1., rsz=4., csz=4., wspace=.4, hspace=.5, left=0.125, right=0.9, bottom=0.1, top=0.9)"
   ]
  },
  {
   "cell_type": "code",
   "execution_count": 11,
   "metadata": {},
   "outputs": [],
   "source": [
    "array = np.loadtxt('domains.csv')\n",
    "array = array.astype(int)\n",
    "array = list(map(str,array))"
   ]
  },
  {
   "cell_type": "code",
   "execution_count": 12,
   "metadata": {},
   "outputs": [],
   "source": [
    "adata.obs['predictions']=array"
   ]
  },
  {
   "cell_type": "code",
   "execution_count": 13,
   "metadata": {},
   "outputs": [
    {
     "data": {
      "text/plain": [
       "AAACAACGAATAGTTC-1     0\n",
       "AAACAAGTATCTCCCA-1     9\n",
       "AAACAATCTACTAGCA-1     4\n",
       "AAACACCAATAACTGC-1     6\n",
       "AAACAGCTTTCAGAAG-1    15\n",
       "                      ..\n",
       "TTGTTGTGTGTCAAGA-1     3\n",
       "TTGTTTCACATCCAGG-1     8\n",
       "TTGTTTCATTAGTCTA-1     6\n",
       "TTGTTTCCATACAACT-1     8\n",
       "TTGTTTGTGTAAATTC-1     0\n",
       "Name: predictions, Length: 4226, dtype: object"
      ]
     },
     "execution_count": 13,
     "metadata": {},
     "output_type": "execute_result"
    }
   ],
   "source": [
    "adata.obs['predictions']"
   ]
  },
  {
   "cell_type": "code",
   "execution_count": 15,
   "metadata": {},
   "outputs": [],
   "source": [
    "adata.obs.to_csv('out.csv')"
   ]
  }
 ],
 "metadata": {
  "kernelspec": {
   "display_name": "CG",
   "language": "python",
   "name": "python3"
  },
  "language_info": {
   "codemirror_mode": {
    "name": "ipython",
    "version": 3
   },
   "file_extension": ".py",
   "mimetype": "text/x-python",
   "name": "python",
   "nbconvert_exporter": "python",
   "pygments_lexer": "ipython3",
   "version": "3.11.4"
  },
  "orig_nbformat": 4
 },
 "nbformat": 4,
 "nbformat_minor": 2
}
